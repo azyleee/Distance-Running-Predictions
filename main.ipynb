{
 "cells": [
  {
   "cell_type": "code",
   "execution_count": 22,
   "metadata": {},
   "outputs": [
    {
     "data": {
      "text/html": [
       "<style>\n",
       "    body {\n",
       "        --vscode-font-family: \"Inter\";\n",
       "        font-size: 15px;\n",
       "    }\n",
       "</style>\n"
      ],
      "text/plain": [
       "<IPython.core.display.HTML object>"
      ]
     },
     "metadata": {},
     "output_type": "display_data"
    }
   ],
   "source": [
    "%%HTML\n",
    "<style>\n",
    "    body {\n",
    "        --vscode-font-family: \"Inter\";\n",
    "        font-size: 15px;\n",
    "    }\n",
    "</style>"
   ]
  },
  {
   "cell_type": "markdown",
   "metadata": {},
   "source": [
    "# **Dependencies**\n",
    "* Pandas\n",
    "* Plotly\n",
    "* nbformat"
   ]
  },
  {
   "cell_type": "markdown",
   "metadata": {},
   "source": [
    "# **Running Predictions**\n",
    "\n",
    "The objective of this project is to create a model that predicts race time given the distance and your history of running performance"
   ]
  },
  {
   "cell_type": "markdown",
   "metadata": {},
   "source": [
    "Let's start by plotting average heart rate (HR) on the z-axis, against distance and pace on the x and y axes, for a few individuals. We might use more than these 3 variables to perform the prediction, but using 3 variables allows us to easily visualise the data. This visualisation will give us an idea of how well the data is correlated."
   ]
  },
  {
   "cell_type": "code",
   "execution_count": 57,
   "metadata": {},
   "outputs": [],
   "source": [
    "import plotly.graph_objects as go\n",
    "\n",
    "def my_scatter(x,y,z,\n",
    "               c,\n",
    "               cmap='viridis',\n",
    "               aspectratio=dict(x=1,y=1,z=1),\n",
    "               height=None,\n",
    "               width=None,\n",
    "               ):\n",
    "    '''\n",
    "    Helper function that plots a scatter using plotly\n",
    "\n",
    "    c: list or np.ndarray or pd.Series - the numerical value associated with the colour map\n",
    "    cmap: string - colour map\n",
    "    aspectratio: dict - aspect ratio \n",
    "\n",
    "    '''\n",
    "\n",
    "    x = pd.Series(x)\n",
    "    y = pd.Series(y)\n",
    "    z = pd.Series(z)\n",
    "\n",
    "\n",
    "    trace_data = go.Scatter3d(\n",
    "        x=x,\n",
    "        y=y,\n",
    "        z=z,\n",
    "        mode='markers',\n",
    "        marker=dict(\n",
    "            size=3,\n",
    "            color=c,\n",
    "            colorscale=cmap,\n",
    "            opacity=0.8\n",
    "        )\n",
    "    )\n",
    "\n",
    "    fig = go.Figure(data = trace_data)\n",
    "    fig.update_layout(\n",
    "        autosize=False if not (height is None and width is None) else True,\n",
    "        width=width,\n",
    "        height=height,\n",
    "        margin = dict(l=0,r=0,b=0,t=0),\n",
    "        paper_bgcolor='#192227',\n",
    "        font_color = '#a3b3b5',\n",
    "        scene = dict(\n",
    "            xaxis = dict(\n",
    "                backgroundcolor='#192227',\n",
    "                gridcolor='#a3b3b5',\n",
    "                showbackground=True,\n",
    "                zerolinecolor='#a3b3b5',\n",
    "                # range=\n",
    "            ),\n",
    "            yaxis = dict(\n",
    "                backgroundcolor='#192227',\n",
    "                gridcolor='#a3b3b5',\n",
    "                showbackground=True,\n",
    "                zerolinecolor='#a3b3b5',\n",
    "                # range=\n",
    "            ),\n",
    "            zaxis = dict(\n",
    "                backgroundcolor='#192227',\n",
    "                gridcolor='#a3b3b5',\n",
    "                showbackground=True,\n",
    "                zerolinecolor='#a3b3b5',\n",
    "                # range=\n",
    "            ),\n",
    "            aspectratio=aspectratio,\n",
    "            camera = dict(projection_type=\"orthographic\")\n",
    "        )\n",
    "    )\n",
    "\n",
    "    return fig"
   ]
  },
  {
   "cell_type": "code",
   "execution_count": 78,
   "metadata": {},
   "outputs": [],
   "source": [
    "import pandas as pd\n",
    "import numpy as np\n",
    "from datetime import datetime\n",
    "\n",
    "data = pd.read_csv(\"data/raw-data-kaggle.csv\", delimiter=\";\")\n",
    "\n",
    "# column of distance to the nearest km\n",
    "data[\"distance_km\"] = round(data[\"distance (m)\"]/1000,0).apply(int)\n",
    "\n",
    " \n",
    "data[\"timestamp_abs\"] = data[\"timestamp\"].apply(lambda x: (datetime.strptime(x, \"%d/%m/%Y %H:%M\") - datetime(1970, 1, 1)).total_seconds())\n",
    "\n",
    "data[\"timestamp_abs\"] = (data[\"timestamp_abs\"] - data[\"timestamp_abs\"].min()) / (data[\"timestamp_abs\"].max() - data[\"timestamp_abs\"].min())\n",
    "\n"
   ]
  },
  {
   "cell_type": "markdown",
   "metadata": {},
   "source": [
    "Once the data is processed and normalised, I'll create an initial Neural Network (NN) to see the minimum number of nodes to capture the input/output map with at least 90% accuracy for a given user. This will allow me to decide whether a helper model for fine-tuning is feasible.\n",
    "\n",
    "The possible outcomes will be:\n",
    "* Low number of nodes: the output of the helper fine-tuning model can be the changes to weights and biases for each node\n",
    "* High number of nodes: there are too many weights and biases to create a neural network with these as outputs - I'll have to fine tune base models directly, and probably use a greater number of clusters \n",
    "* Accuracy can't be captured with 90% accuracy: this indicates that there is poor correlation of the input with the output"
   ]
  }
 ],
 "metadata": {
  "kernelspec": {
   "display_name": "Running-Predictions-HAoHubZI",
   "language": "python",
   "name": "python3"
  },
  "language_info": {
   "codemirror_mode": {
    "name": "ipython",
    "version": 3
   },
   "file_extension": ".py",
   "mimetype": "text/x-python",
   "name": "python",
   "nbconvert_exporter": "python",
   "pygments_lexer": "ipython3",
   "version": "3.10.0"
  }
 },
 "nbformat": 4,
 "nbformat_minor": 2
}
